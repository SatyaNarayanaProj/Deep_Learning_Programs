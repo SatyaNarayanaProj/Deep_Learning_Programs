{
 "cells": [
  {
   "cell_type": "markdown",
   "id": "0f1cf6e6",
   "metadata": {},
   "source": [
    " ## Sentimental Analysis with GRU and Lstm using pytorch"
   ]
  },
  {
   "cell_type": "code",
   "execution_count": 14,
   "id": "5d1235ba",
   "metadata": {},
   "outputs": [],
   "source": [
    "import torch\n",
    "import torch.nn as nn\n",
    "import torch.optim as optim\n",
    "import numpy as np\n",
    "import pandas as pd\n",
    "from sklearn.model_selection import train_test_split\n",
    "from sklearn.feature_extraction.text import CountVectorizer\n",
    "from torch.utils.data import TensorDataset, DataLoader"
   ]
  },
  {
   "cell_type": "code",
   "execution_count": 15,
   "id": "28924382",
   "metadata": {},
   "outputs": [
    {
     "name": "stdout",
     "output_type": "stream",
     "text": [
      "                                              review sentiment\n",
      "0  One of the other reviewers has mentioned that ...  positive\n",
      "1  A wonderful little production. <br /><br />The...  positive\n",
      "2  I thought this was a wonderful way to spend ti...  positive\n",
      "3  Basically there's a family where a little boy ...  negative\n",
      "4  Petter Mattei's \"Love in the Time of Money\" is...  positive\n"
     ]
    }
   ],
   "source": [
    "df = pd.read_csv(r\"C:/Datasets/IMDB Dataset.csv\")  \n",
    "print(df.head())"
   ]
  },
  {
   "cell_type": "code",
   "execution_count": 16,
   "id": "3811a79c",
   "metadata": {},
   "outputs": [],
   "source": [
    "df['sentiment']=df['sentiment'].map({'positive':1,'negative':0})\n",
    "texts=df['review'].values\n",
    "labels=df['sentiment'].values"
   ]
  },
  {
   "cell_type": "code",
   "execution_count": 27,
   "id": "76e527d9",
   "metadata": {},
   "outputs": [],
   "source": [
    "vectorizer = CountVectorizer(max_features=2000, stop_words='english')\n",
    "X = vectorizer.fit_transform(texts).toarray()\n"
   ]
  },
  {
   "cell_type": "code",
   "execution_count": 28,
   "id": "32ade9a5",
   "metadata": {},
   "outputs": [],
   "source": [
    "X_train, X_test, y_train, y_test = train_test_split(X, labels, test_size=0.2, random_state=42)\n"
   ]
  },
  {
   "cell_type": "code",
   "execution_count": 29,
   "id": "8b89ea15",
   "metadata": {},
   "outputs": [],
   "source": [
    "X_train = torch.tensor(X_train, dtype=torch.float32)\n",
    "y_train = torch.tensor(y_train, dtype=torch.float32)\n",
    "X_test = torch.tensor(X_test, dtype=torch.float32)\n",
    "y_test = torch.tensor(y_test, dtype=torch.float32)"
   ]
  },
  {
   "cell_type": "code",
   "execution_count": 30,
   "id": "154befb3",
   "metadata": {},
   "outputs": [],
   "source": [
    "train_data = TensorDataset(X_train, y_train)\n",
    "test_data = TensorDataset(X_test, y_test)\n",
    "\n",
    "BATCH_SIZE = 64\n",
    "train_loader = DataLoader(train_data, shuffle=True, batch_size=BATCH_SIZE)\n",
    "test_loader = DataLoader(test_data, batch_size=BATCH_SIZE)\n"
   ]
  },
  {
   "cell_type": "code",
   "execution_count": 31,
   "id": "055cf79a",
   "metadata": {},
   "outputs": [],
   "source": [
    "class LSTMClassifier(nn.Module):\n",
    "    def __init__(self, input_dim, hidden_dim, output_dim):\n",
    "        super(LSTMClassifier, self).__init__()\n",
    "        self.lstm = nn.LSTM(input_dim, hidden_dim, batch_first=True)\n",
    "        self.fc = nn.Linear(hidden_dim, output_dim)\n",
    "        self.sigmoid = nn.Sigmoid()\n",
    "\n",
    "    def forward(self, x):\n",
    "        x = x.unsqueeze(1)  # [batch, seq_len=1, features]\n",
    "        _, (hidden, _) = self.lstm(x)\n",
    "        out = self.fc(hidden[-1])\n",
    "        return self.sigmoid(out)\n",
    "\n",
    "# Or use GRU\n",
    "class GRUClassifier(nn.Module):\n",
    "    def __init__(self, input_dim, hidden_dim, output_dim):\n",
    "        super(GRUClassifier, self).__init__()\n",
    "        self.gru = nn.GRU(input_dim, hidden_dim, batch_first=True)\n",
    "        self.fc = nn.Linear(hidden_dim, output_dim)\n",
    "        self.sigmoid = nn.Sigmoid()\n",
    "\n",
    "    def forward(self, x):\n",
    "        x = x.unsqueeze(1)\n",
    "        _, hidden = self.gru(x)\n",
    "        out = self.fc(hidden[-1])\n",
    "        return self.sigmoid(out)\n",
    "\n",
    "\n"
   ]
  },
  {
   "cell_type": "code",
   "execution_count": null,
   "id": "6b81440b",
   "metadata": {},
   "outputs": [],
   "source": [
    "input_dim=X_train.shape[1]\n",
    "hidden_dim=64\n",
    "output_dim=1\n",
    "\n",
    "model=LSTMClassifier(input_dim, hidden_dim, output_dim)\n",
    "  \n",
    "criterion=nn.BCELoss()\n",
    "optimizer=optim.Adam(model.parameters(), lr=0.01)"
   ]
  },
  {
   "cell_type": "code",
   "execution_count": null,
   "id": "638e79a9",
   "metadata": {},
   "outputs": [],
   "source": [
    "\n",
    "input_dim = X_train.shape[1]\n",
    "hidden_dim = 64\n",
    "output_dim = 1\n",
    "\n",
    "model = LSTMClassifier(input_dim, hidden_dim, output_dim)\n",
    "# model = GRUClassifier(input_dim, hidden_dim, output_dim)\n",
    "\n",
    "criterion = nn.BCELoss()\n",
    "optimizer = optim.Adam(model.parameters(), lr=0.01)"
   ]
  },
  {
   "cell_type": "code",
   "execution_count": 33,
   "id": "7d281c50",
   "metadata": {},
   "outputs": [
    {
     "name": "stdout",
     "output_type": "stream",
     "text": [
      "Epoch [1/10] | Loss: 0.3292 | Acc: 0.8585\n",
      "Epoch [2/10] | Loss: 0.2451 | Acc: 0.8962\n",
      "Epoch [3/10] | Loss: 0.1483 | Acc: 0.9425\n",
      "Epoch [4/10] | Loss: 0.0638 | Acc: 0.9801\n",
      "Epoch [5/10] | Loss: 0.0258 | Acc: 0.9933\n",
      "Epoch [6/10] | Loss: 0.0139 | Acc: 0.9965\n",
      "Epoch [7/10] | Loss: 0.0054 | Acc: 0.9991\n",
      "Epoch [8/10] | Loss: 0.0036 | Acc: 0.9993\n",
      "Epoch [9/10] | Loss: 0.0021 | Acc: 0.9997\n",
      "Epoch [10/10] | Loss: 0.0020 | Acc: 0.9996\n"
     ]
    }
   ],
   "source": [
    "EPOCHS = 10\n",
    "\n",
    "for epoch in range(EPOCHS):\n",
    "    model.train()\n",
    "    total_loss, total_acc = 0, 0\n",
    "    for X_batch, y_batch in train_loader:\n",
    "        optimizer.zero_grad()\n",
    "        outputs = model(X_batch).squeeze()\n",
    "        loss = criterion(outputs, y_batch)\n",
    "        loss.backward()\n",
    "        optimizer.step()\n",
    "\n",
    "        preds = (outputs >= 0.5).float()\n",
    "        acc = (preds == y_batch).float().mean()\n",
    "        total_loss += loss.item()\n",
    "        total_acc += acc.item()\n",
    "\n",
    "    print(f\"Epoch [{epoch+1}/{EPOCHS}] | Loss: {total_loss/len(train_loader):.4f} | Acc: {total_acc/len(train_loader):.4f}\")\n",
    "\n",
    "\n"
   ]
  },
  {
   "cell_type": "code",
   "execution_count": 34,
   "id": "b933d999",
   "metadata": {},
   "outputs": [
    {
     "name": "stdout",
     "output_type": "stream",
     "text": [
      "\n",
      "Test Accuracy: 0.8590\n"
     ]
    }
   ],
   "source": [
    "model.eval()\n",
    "with torch.no_grad():\n",
    "    total_acc = 0\n",
    "    for X_batch, y_batch in test_loader:\n",
    "        preds = model(X_batch).squeeze()\n",
    "        preds = (preds >= 0.5).float()\n",
    "        acc = (preds == y_batch).float().mean()\n",
    "        total_acc += acc.item()\n",
    "    print(f\"\\nTest Accuracy: {total_acc/len(test_loader):.4f}\")"
   ]
  },
  {
   "cell_type": "markdown",
   "id": "34bca1fc",
   "metadata": {},
   "source": [
    "# GRU"
   ]
  },
  {
   "cell_type": "code",
   "execution_count": 35,
   "id": "abebfea5",
   "metadata": {},
   "outputs": [],
   "source": [
    "\n",
    "input_dim = X_train.shape[1]\n",
    "hidden_dim = 64\n",
    "output_dim = 1\n",
    "model=GRUClassifier(input_dim, hidden_dim, output_dim)\n",
    "criterion=nn.BCELoss()\n",
    "optimizer=optim.Adam(model.parameters(), lr=0.01)"
   ]
  },
  {
   "cell_type": "code",
   "execution_count": 36,
   "id": "cc2ded54",
   "metadata": {},
   "outputs": [],
   "source": [
    "\n",
    "input_dim = X_train.shape[1]\n",
    "hidden_dim = 64\n",
    "output_dim = 1\n",
    "\n",
    "model = GRUClassifier(input_dim, hidden_dim, output_dim)\n",
    "\n",
    "criterion = nn.BCELoss()\n",
    "optimizer = optim.Adam(model.parameters(), lr=0.01)"
   ]
  },
  {
   "cell_type": "code",
   "execution_count": 37,
   "id": "975a1242",
   "metadata": {},
   "outputs": [
    {
     "name": "stdout",
     "output_type": "stream",
     "text": [
      "Epoch [1/10] | Loss: 0.3290 | Acc: 0.8559\n",
      "Epoch [2/10] | Loss: 0.2437 | Acc: 0.8984\n",
      "Epoch [3/10] | Loss: 0.1491 | Acc: 0.9425\n",
      "Epoch [4/10] | Loss: 0.0671 | Acc: 0.9784\n",
      "Epoch [5/10] | Loss: 0.0282 | Acc: 0.9920\n",
      "Epoch [6/10] | Loss: 0.0114 | Acc: 0.9969\n",
      "Epoch [7/10] | Loss: 0.0056 | Acc: 0.9987\n",
      "Epoch [8/10] | Loss: 0.0036 | Acc: 0.9991\n",
      "Epoch [9/10] | Loss: 0.0031 | Acc: 0.9993\n",
      "Epoch [10/10] | Loss: 0.0406 | Acc: 0.9851\n"
     ]
    }
   ],
   "source": [
    "EPOCHS = 10\n",
    "\n",
    "for epoch in range(EPOCHS):\n",
    "    model.train()\n",
    "    total_loss, total_acc = 0, 0\n",
    "    for X_batch, y_batch in train_loader:\n",
    "        optimizer.zero_grad()\n",
    "        outputs = model(X_batch).squeeze()\n",
    "        loss = criterion(outputs, y_batch)\n",
    "        loss.backward()\n",
    "        optimizer.step()\n",
    "\n",
    "        preds = (outputs >= 0.5).float()\n",
    "        acc = (preds == y_batch).float().mean()\n",
    "        total_loss += loss.item()\n",
    "        total_acc += acc.item()\n",
    "\n",
    "    print(f\"Epoch [{epoch+1}/{EPOCHS}] | Loss: {total_loss/len(train_loader):.4f} | Acc: {total_acc/len(train_loader):.4f}\")\n",
    "\n",
    "\n"
   ]
  },
  {
   "cell_type": "code",
   "execution_count": 38,
   "id": "7c9bdd61",
   "metadata": {},
   "outputs": [
    {
     "name": "stdout",
     "output_type": "stream",
     "text": [
      "\n",
      "Test Accuracy: 0.8470\n"
     ]
    }
   ],
   "source": [
    "model.eval()\n",
    "with torch.no_grad():\n",
    "    total_acc = 0\n",
    "    for X_batch, y_batch in test_loader:\n",
    "        preds = model(X_batch).squeeze()\n",
    "        preds = (preds >= 0.5).float()\n",
    "        acc = (preds == y_batch).float().mean()\n",
    "        total_acc += acc.item()\n",
    "    print(f\"\\nTest Accuracy: {total_acc/len(test_loader):.4f}\")"
   ]
  },
  {
   "cell_type": "code",
   "execution_count": null,
   "id": "15d06a25",
   "metadata": {},
   "outputs": [],
   "source": []
  }
 ],
 "metadata": {
  "kernelspec": {
   "display_name": ".venv (3.12.6)",
   "language": "python",
   "name": "python3"
  },
  "language_info": {
   "codemirror_mode": {
    "name": "ipython",
    "version": 3
   },
   "file_extension": ".py",
   "mimetype": "text/x-python",
   "name": "python",
   "nbconvert_exporter": "python",
   "pygments_lexer": "ipython3",
   "version": "3.12.6"
  }
 },
 "nbformat": 4,
 "nbformat_minor": 5
}
