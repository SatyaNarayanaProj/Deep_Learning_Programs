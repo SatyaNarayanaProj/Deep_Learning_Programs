{
 "cells": [
  {
   "cell_type": "code",
   "execution_count": 1,
   "id": "ba6460bb",
   "metadata": {},
   "outputs": [],
   "source": [
    "import torch\n",
    "import torch.nn as nn\n",
    "import torch.optim as optim\n",
    "from torchvision import datasets,transforms\n",
    "from torch.utils.data import DataLoader"
   ]
  },
  {
   "cell_type": "markdown",
   "id": "b22553cc",
   "metadata": {},
   "source": [
    "# Transform \n"
   ]
  },
  {
   "cell_type": "code",
   "execution_count": 2,
   "id": "f4419a4b",
   "metadata": {},
   "outputs": [],
   "source": [
    "\n",
    "transform=transforms.Compose([\n",
    "    \n",
    "    transforms.ToTensor(),\n",
    "    transforms.Normalize((0.5,0.5,0.5),(0.5,0.5,0.5))\n",
    "])\n"
   ]
  },
  {
   "cell_type": "markdown",
   "id": "3be4db68",
   "metadata": {},
   "source": [
    "# Download dataset"
   ]
  },
  {
   "cell_type": "code",
   "execution_count": 3,
   "id": "45a9d26e",
   "metadata": {},
   "outputs": [],
   "source": [
    "train_data=datasets.CIFAR10(root='./data',\n",
    "                            download=True,\n",
    "                            train=True,\n",
    "                            transform=transform)\n",
    "test_data=datasets.CIFAR10(root='./data',\n",
    "                            download=True,\n",
    "                            train=False,\n",
    "                            transform=transform)\n"
   ]
  },
  {
   "cell_type": "markdown",
   "id": "269f37dc",
   "metadata": {},
   "source": [
    "# Data Loader"
   ]
  },
  {
   "cell_type": "code",
   "execution_count": 4,
   "id": "507a456d",
   "metadata": {},
   "outputs": [],
   "source": [
    "\n",
    "\n",
    "train_loader=DataLoader(train_data,batch_size=64,shuffle=True)\n",
    "test_loader=DataLoader(test_data,batch_size=64,shuffle=False)\n",
    "\n"
   ]
  },
  {
   "cell_type": "code",
   "execution_count": 8,
   "id": "1ab46a1e",
   "metadata": {},
   "outputs": [],
   "source": [
    "class cifar_cnn_pytorch(nn.Module):\n",
    "    def __init__(self):\n",
    "        super(cifar_cnn_pytorch,self).__init__()\n",
    "        self.conv1=nn.Conv2d(3,6,5)\n",
    "        self.conv2=nn.Conv2d(6,6,3)\n",
    "        self.fc1=nn.Linear(6*6*6,128)\n",
    "        self.fc2=nn.Linear(128,10)\n",
    "    \n",
    "    def forward(self,x):\n",
    "        x=self.conv1(x)\n",
    "        x=torch.relu(x)\n",
    "        x=torch.max_pool2d(x,2)\n",
    "\n",
    "        x=self.conv2(x)\n",
    "        x=torch.relu(x)\n",
    "        x=torch.max_pool2d(x,2)\n",
    "\n",
    "        x = torch.flatten(x, 1)\n",
    "        x=self.fc1(x)\n",
    "        x=torch.relu(x)\n",
    "\n",
    "        x=self.fc2(x)\n",
    "        \n",
    "        return x\n"
   ]
  },
  {
   "cell_type": "code",
   "execution_count": 9,
   "id": "4f3eac49",
   "metadata": {},
   "outputs": [],
   "source": [
    "model=cifar_cnn_pytorch()\n",
    "criterian=nn.CrossEntropyLoss()\n",
    "optimizer=optim.Adam(model.parameters(),lr=0.0001)\n"
   ]
  },
  {
   "cell_type": "markdown",
   "id": "ec42d695",
   "metadata": {},
   "source": [
    "## Train\n",
    "\n",
    "\n"
   ]
  },
  {
   "cell_type": "code",
   "execution_count": 12,
   "id": "ff663662",
   "metadata": {},
   "outputs": [
    {
     "name": "stdout",
     "output_type": "stream",
     "text": [
      "Epoch:1,loss:1.64532470703125\n",
      "Epoch:2,loss:2.1531600952148438\n",
      "Epoch:3,loss:1.4536601305007935\n",
      "Epoch:4,loss:1.7289934158325195\n",
      "Epoch:5,loss:1.5952649116516113\n",
      "Epoch:6,loss:1.6938488483428955\n",
      "Epoch:7,loss:1.6646077632904053\n",
      "Epoch:8,loss:1.4883140325546265\n",
      "Epoch:9,loss:1.8202331066131592\n",
      "Epoch:10,loss:2.0034964084625244\n"
     ]
    }
   ],
   "source": [
    "\n",
    "for epoch in range(10):\n",
    "    for images,label in train_loader:\n",
    "        outputs=model(images)\n",
    "        loss=criterian(outputs,label)\n",
    "        loss.backward()\n",
    "        optimizer.step()\n",
    "        optimizer.zero_grad()\n",
    "    print(f\"Epoch:{epoch+1},loss:{loss.item()}\")\n",
    "\n"
   ]
  },
  {
   "cell_type": "code",
   "execution_count": null,
   "id": "7d88c6ce",
   "metadata": {},
   "outputs": [],
   "source": []
  }
 ],
 "metadata": {
  "kernelspec": {
   "display_name": ".venv (3.12.6)",
   "language": "python",
   "name": "python3"
  },
  "language_info": {
   "codemirror_mode": {
    "name": "ipython",
    "version": 3
   },
   "file_extension": ".py",
   "mimetype": "text/x-python",
   "name": "python",
   "nbconvert_exporter": "python",
   "pygments_lexer": "ipython3",
   "version": "3.12.6"
  }
 },
 "nbformat": 4,
 "nbformat_minor": 5
}
